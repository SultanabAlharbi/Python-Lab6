{
 "cells": [
  {
   "cell_type": "code",
   "execution_count": 1,
   "id": "5cfe6e74",
   "metadata": {},
   "outputs": [],
   "source": [
    "phone_book={\"1111111111\":\"Amal\",\n",
    "           \"2222222222\":\"Mohammed\",\n",
    "           \"3333333333\":\"Khadijah\",\n",
    "           \"4444444444\":\"Abullah\",\n",
    "           \"5555555555\":\"Rawan\",\n",
    "           \"6666666666\":\"Faisal\",\n",
    "           \"7777777777\":\"Layla\"}"
   ]
  },
  {
   "cell_type": "code",
   "execution_count": null,
   "id": "a8a67a9c",
   "metadata": {},
   "outputs": [
    {
     "name": "stdout",
     "output_type": "stream",
     "text": [
      "Please Enter Number: 1111111111\n",
      "Amal\n",
      "Please Enter Number: 9111111111\n",
      "Sorry, the number is not found\n",
      "Please Enter Number: 11111\n",
      "This is invalid number\n",
      "Please Enter Number: fdsfsdf\n",
      "This is invalid number\n"
     ]
    }
   ],
   "source": [
    "## اقدر احط بريك بعد كل شرط لكن ماحطيت عشان يوضح الاوتبوت كامل\n",
    "while True:\n",
    "    user=input(\"Please Enter Number: \")\n",
    "    \n",
    "    if user in phone_book.keys():\n",
    "        print(phone_book[user])\n",
    "        \n",
    "    elif user not in phone_book.keys() and len(user)==10:\n",
    "        print(\"Sorry, the number is not found\")\n",
    "        \n",
    "    elif len(user) > 10 or len(user) <10:\n",
    "        print(\"This is invalid number\")\n",
    "        \n",
    "    elif user.isdigit() == False:\n",
    "        print(\"This is invalid number\")\n",
    "\n",
    "    \n",
    "    \n",
    "    "
   ]
  },
  {
   "cell_type": "code",
   "execution_count": null,
   "id": "6048eda9",
   "metadata": {},
   "outputs": [],
   "source": []
  },
  {
   "cell_type": "code",
   "execution_count": null,
   "id": "c7ed00bb",
   "metadata": {},
   "outputs": [],
   "source": []
  },
  {
   "cell_type": "code",
   "execution_count": null,
   "id": "2627d444",
   "metadata": {},
   "outputs": [],
   "source": []
  }
 ],
 "metadata": {
  "kernelspec": {
   "display_name": "Python 3 (ipykernel)",
   "language": "python",
   "name": "python3"
  },
  "language_info": {
   "codemirror_mode": {
    "name": "ipython",
    "version": 3
   },
   "file_extension": ".py",
   "mimetype": "text/x-python",
   "name": "python",
   "nbconvert_exporter": "python",
   "pygments_lexer": "ipython3",
   "version": "3.9.12"
  }
 },
 "nbformat": 4,
 "nbformat_minor": 5
}
